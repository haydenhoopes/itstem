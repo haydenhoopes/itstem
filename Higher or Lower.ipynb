{
 "cells": [
  {
   "cell_type": "markdown",
   "id": "26a0f087-011c-4e14-be3a-5d6359fd110e",
   "metadata": {},
   "source": [
    "# Higher or Lower\n",
    "In this game, the computer randomly chooses a number between 1 and 1000 and the user has to guess it in as few turns as possible. The messages \"Higher\" and \"Lower\" are used to indicate to the user where their guess lies relative to the answer."
   ]
  },
  {
   "cell_type": "code",
   "execution_count": null,
   "id": "2dadf5cb-7e38-40db-92a1-7c860b61ad6b",
   "metadata": {},
   "outputs": [],
   "source": [
    "from random import randint\n",
    "\n",
    "computer_choice = randint(1, 1000)\n",
    "\n",
    "total_guesses = 0\n",
    "\n",
    "while True:\n",
    "    user_guess = input('What is your guess? ')\n",
    "    total_guesses += 1\n",
    "    \n",
    "    if int(user_guess) == computer_choice:\n",
    "        print(f'You got it! The number was {computer_choice}.')\n",
    "        break\n",
    "    elif int(user_guess) < computer_choice:\n",
    "        print(\"Guess higher!\")\n",
    "    elif int(user_guess) > computer_choice:\n",
    "        print(\"Guess lower!\")\n",
    "\n",
    "print(\"Total guesses: \" + str(total_guesses))"
   ]
  }
 ],
 "metadata": {
  "kernelspec": {
   "display_name": "Python 3 (ipykernel)",
   "language": "python",
   "name": "python3"
  },
  "language_info": {
   "codemirror_mode": {
    "name": "ipython",
    "version": 3
   },
   "file_extension": ".py",
   "mimetype": "text/x-python",
   "name": "python",
   "nbconvert_exporter": "python",
   "pygments_lexer": "ipython3",
   "version": "3.10.6"
  }
 },
 "nbformat": 4,
 "nbformat_minor": 5
}
