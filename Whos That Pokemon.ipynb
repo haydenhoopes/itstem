{
 "cells": [
  {
   "cell_type": "markdown",
   "id": "f4b5563b-532c-42f4-9cf1-c705214dc011",
   "metadata": {},
   "source": [
    "# Who's That Pokemon?\n",
    "This isn't as much of a game as it is a scavenger hunt for different pokemon that meet the criteria that I give the students. If they can find the correct pokemon and tell me the six answers, they win a rubber duck.\n",
    "\n",
    "Students must complete all work using Python.\n",
    "\n",
    "## Questions to answer\n",
    "\n",
    "1. How many pokemon does Dragon Tamer Hayden have? (16)\n",
    "2. What is the name of the trainer who owns the pokemon with the name Lugia? (Sim Trainer Kilf)\n",
    "3. How many pokemon have an attack stat greater than 300? (34)\n",
    "4. What is the name of the only pokemon that is both Dark type (`type1`) and Psychic type (`type2`)? (Malamar)\n",
    "5. What is the speed stat of all Pikachu that are level 44? (100)\n",
    "6. What is the name of the only pokemon with an `hp` of 210 and a `speed` of 128? (Dragonite)"
   ]
  },
  {
   "cell_type": "code",
   "execution_count": null,
   "id": "bf0369fa-6ce9-481d-9b7f-62d75ea8a1d0",
   "metadata": {},
   "outputs": [],
   "source": [
    "import pandas as pd\n",
    "\n",
    "df = pd.read_csv('pokemon.csv')"
   ]
  },
  {
   "cell_type": "code",
   "execution_count": null,
   "id": "6d4abbcb-5af3-4df1-98db-c8004d2fe548",
   "metadata": {},
   "outputs": [],
   "source": [
    "# Question 1\n",
    "df[df['trainername'] == 'Dragon Tamer Hayden'].shape"
   ]
  },
  {
   "cell_type": "code",
   "execution_count": null,
   "id": "ccf8f775-7378-4350-a0ce-fdde965b8d78",
   "metadata": {},
   "outputs": [],
   "source": [
    "# Question 2\n",
    "df[df['pokename'] == 'Lugia']"
   ]
  },
  {
   "cell_type": "code",
   "execution_count": null,
   "id": "00be6e48-f698-424a-8170-86b758d7b8c2",
   "metadata": {},
   "outputs": [],
   "source": [
    "# Quesiton 3\n",
    "df[df['defense'] > 300].shape"
   ]
  },
  {
   "cell_type": "code",
   "execution_count": null,
   "id": "16886fc4-df46-4c04-88db-429e75cc41a7",
   "metadata": {},
   "outputs": [],
   "source": [
    "# Question 4\n",
    "df[(df['type1'] == 'Dark') & (df['type2'] == 'Psychic')]"
   ]
  },
  {
   "cell_type": "code",
   "execution_count": null,
   "id": "13051901-8075-4726-be3b-4289b6e60837",
   "metadata": {},
   "outputs": [],
   "source": [
    "# Question 5\n",
    "df[(df['pokename']=='Pikachu')&(df['pokelevel']==44)]"
   ]
  },
  {
   "cell_type": "code",
   "execution_count": null,
   "id": "9d2e093e-d91f-4d8e-97af-b46fd805e72b",
   "metadata": {},
   "outputs": [],
   "source": [
    "# Question 6\n",
    "df[(df['hp'] == 210) & (df['speed'] == 128)]"
   ]
  }
 ],
 "metadata": {
  "kernelspec": {
   "display_name": "Python 3 (ipykernel)",
   "language": "python",
   "name": "python3"
  },
  "language_info": {
   "codemirror_mode": {
    "name": "ipython",
    "version": 3
   },
   "file_extension": ".py",
   "mimetype": "text/x-python",
   "name": "python",
   "nbconvert_exporter": "python",
   "pygments_lexer": "ipython3",
   "version": "3.10.6"
  }
 },
 "nbformat": 4,
 "nbformat_minor": 5
}
