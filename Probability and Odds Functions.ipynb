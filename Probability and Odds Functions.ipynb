{
 "cells": [
  {
   "cell_type": "markdown",
   "id": "ba895c26-8781-450f-ada3-3fab0e78b6cf",
   "metadata": {},
   "source": [
    "# Probability and Odds\n",
    "These functions are meant to be used in the \"Guess the number!\" game. They predict the probability of certain outcomes using the `rook.csv` data set. They can also determine the expected value of each choice using the odds.\n",
    "\n",
    "Again, students will need to answer questions about probabilities and odds in order to pass the test and receive another rubber ducky.\n",
    "\n",
    "1. Ex. What is the probability that a randomly drawn card is green? (0.231)\n",
    "2. Ex. What is the probability that a randomly drawn card is both red and is less than 5? (0.083)\n",
    "3. What is the probability that a randomly drawn card is evenly divisible (not counting +2 and +4)? (0.333)\n",
    "4. What is the probability that a randomly drawn card is either a skip or a reverse card? (0.148)\n",
    "5. What is the probability that a randomly drawn card is either blue or black? (0.305)\n",
    "6. What is the expected outcome when betting that the next randomly drawn card is greater than 5? Should you bet on this assuming even payout? (0.296)\n",
    "7. Assume that the odds are 3 to 1 in favor of cards greater than 5. What is the expected outcome of drawing a card greater than 5? (0.888)\n",
    "8. Assuming odds of 3 to 1 for cards greater than 5, should you bet that the next card will be greater than 5? Why? (Yes, 0.888 > 0.703)\n",
    "9. What is the probability of drawing a wild card? (0.037)\n",
    "10. Assume that the odds are 5 to 1 in favor of drawing a wild card. What is the expected outcome of drawing a wild card? (0.185)\n",
    "11. Assuming odds of 5 to 1 for wild cards, should you bet that the next card will be a wild card? Why? (No, 0.185 < 0.963)"
   ]
  },
  {
   "cell_type": "code",
   "execution_count": null,
   "id": "a8a764d8-8c79-4c3f-8fb0-2a2ab8d0c598",
   "metadata": {},
   "outputs": [],
   "source": [
    "import pandas as pd\n",
    "\n",
    "cards = pd.read_csv('uno_cards.csv')\n",
    "total = cards.shape[0]"
   ]
  },
  {
   "cell_type": "code",
   "execution_count": null,
   "id": "e584c2e2-bbc4-421b-8a32-be60cff669e5",
   "metadata": {},
   "outputs": [],
   "source": [
    "# Question 1\n",
    "cards[cards['Color']=='Green'].shape[0] / total"
   ]
  },
  {
   "cell_type": "code",
   "execution_count": null,
   "id": "0ab8f671-eb76-404d-8ce1-954acb599d63",
   "metadata": {},
   "outputs": [],
   "source": [
    "# Question 2\n",
    "cards[(cards['Color']=='Red')&(cards['Number']<5)].shape[0] / total"
   ]
  },
  {
   "cell_type": "code",
   "execution_count": null,
   "id": "b6a2da30-1f4e-4e81-9294-3b509a83e11f",
   "metadata": {},
   "outputs": [],
   "source": [
    "# Question 3\n",
    "cards[cards['Number'] % 2 == 0].shape[0] / total"
   ]
  },
  {
   "cell_type": "code",
   "execution_count": null,
   "id": "62f3145a-82a8-47dd-b0a4-a9ef696d7c16",
   "metadata": {},
   "outputs": [],
   "source": [
    "# Question 4\n",
    "cards[(cards['Symbol']=='Skip')|(cards['Symbol']=='Reverse')].shape[0] / total"
   ]
  },
  {
   "cell_type": "code",
   "execution_count": null,
   "id": "907e57af-a871-4714-a2f0-a2fc42d520f5",
   "metadata": {},
   "outputs": [],
   "source": [
    "# Question 5\n",
    "cards[(cards['Color']=='Blue')|(cards['Color']=='Black')].shape[0] / total"
   ]
  },
  {
   "cell_type": "code",
   "execution_count": null,
   "id": "9d0ae1a2-d941-4ea1-a636-21383ddcfab8",
   "metadata": {},
   "outputs": [],
   "source": [
    "# Question 6\n",
    "cards[cards['Number'] > 5].shape[0]/total"
   ]
  },
  {
   "cell_type": "code",
   "execution_count": null,
   "id": "e9f820f6-29ec-43ed-aa62-42223cc63571",
   "metadata": {},
   "outputs": [],
   "source": [
    "# Question 7\n",
    "cards[cards['Number'] > 5].shape[0]/total*3"
   ]
  },
  {
   "cell_type": "code",
   "execution_count": null,
   "id": "e23226b5-b552-4381-ad1f-90fb7ce61853",
   "metadata": {},
   "outputs": [],
   "source": [
    "# Question 9\n",
    "cards[cards['Symbol'] == 'Wild'].shape[0]/total"
   ]
  },
  {
   "cell_type": "code",
   "execution_count": null,
   "id": "66a22e35-8985-483c-b596-36077e4fd26c",
   "metadata": {},
   "outputs": [],
   "source": [
    "# Question 10\n",
    "cards[cards['Symbol'] == 'Wild'].shape[0]/total*5"
   ]
  },
  {
   "cell_type": "code",
   "execution_count": null,
   "id": "44084c4c-1f34-4e1d-b3cb-2b82424a734d",
   "metadata": {},
   "outputs": [],
   "source": [
    "# Question 11\n",
    "1-cards[cards['Symbol'] == 'Wild'].shape[0]/total"
   ]
  }
 ],
 "metadata": {
  "kernelspec": {
   "display_name": "Python 3 (ipykernel)",
   "language": "python",
   "name": "python3"
  },
  "language_info": {
   "codemirror_mode": {
    "name": "ipython",
    "version": 3
   },
   "file_extension": ".py",
   "mimetype": "text/x-python",
   "name": "python",
   "nbconvert_exporter": "python",
   "pygments_lexer": "ipython3",
   "version": "3.10.6"
  }
 },
 "nbformat": 4,
 "nbformat_minor": 5
}
